{
 "cells": [
  {
   "cell_type": "code",
   "execution_count": 33,
   "id": "344b4a07",
   "metadata": {},
   "outputs": [
    {
     "name": "stdout",
     "output_type": "stream",
     "text": [
      "우리 집에 소주 3짝이 있었네\n",
      "내가 1병을 먹고 2짝과 29병이 남았네\n",
      "아아 89일이면 다 마시겠구나!\n"
     ]
    },
    {
     "data": {
      "text/plain": [
       "0"
      ]
     },
     "execution_count": 33,
     "metadata": {},
     "output_type": "execute_result"
    }
   ],
   "source": [
    "def jj_song(day):\n",
    "    day = (day-1) % 90 + 1\n",
    "    before = [(90 - (day-1)) // 30, (90 - (day-1)) % 30]\n",
    "    after = [(90 - day) // 30, (90 - day) % 30]\n",
    "    if before[0] == 0:\n",
    "        print(f'우리 집에 소주 {before[1]}병이 있었네')\n",
    "    elif before[1] == 0:\n",
    "        print(f'우리 집에 소주 {before[0]}짝이 있었네')\n",
    "    else:\n",
    "        print(f'우리 집에 소주 {before[0]}짝과 {before[1]}병이 있었네')\n",
    "    if after[0] == 0 and after[1] == 0:\n",
    "        print(\"내가 1병을 먹고 하나도 남지 않았네\")\n",
    "    elif after[0] == 0:\n",
    "        print(f'내가 1병을 먹고 {after[1]}병이 남았네')\n",
    "    elif after[1] == 0:\n",
    "        print(f'내가 1병을 먹고 {after[0]}짝이 남았네')\n",
    "    else:\n",
    "        print(f'내가 1병을 먹고 {after[0]}짝과 {after[1]}병이 남았네')\n",
    "    if 90-day:\n",
    "        print(f'아아 {90-day}일이면 다 마시겠구나!')\n",
    "    else:\n",
    "        print(\"아아 다시 3짝을 사와야지!\")\n",
    "    return 0;\n",
    "\n",
    "jj_song(1)"
   ]
  }
 ],
 "metadata": {
  "kernelspec": {
   "display_name": "base",
   "language": "python",
   "name": "python3"
  },
  "language_info": {
   "codemirror_mode": {
    "name": "ipython",
    "version": 3
   },
   "file_extension": ".py",
   "mimetype": "text/x-python",
   "name": "python",
   "nbconvert_exporter": "python",
   "pygments_lexer": "ipython3",
   "version": "3.11.7"
  }
 },
 "nbformat": 4,
 "nbformat_minor": 5
}

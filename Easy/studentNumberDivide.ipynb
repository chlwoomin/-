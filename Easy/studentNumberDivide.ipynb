{
 "cells": [
  {
   "cell_type": "code",
   "execution_count": 1,
   "id": "8217eb5b",
   "metadata": {},
   "outputs": [
    {
     "name": "stdout",
     "output_type": "stream",
     "text": [
      "25 학번,24 학번,23 학번,22 학번,21 학번"
     ]
    }
   ],
   "source": [
    "#Lv1\n",
    "student_number = list(map(int, input(\"학번을 입력해주세요: \").split()))\n",
    "\n",
    "for num in student_number:\n",
    "    if num == student_number[-1]:\n",
    "        print(num,\"학번\",end=\"\")\n",
    "    else:\n",
    "        print(num,\"학번\",end=\",\")\n"
   ]
  },
  {
   "cell_type": "code",
   "execution_count": null,
   "id": "7f1b1d04",
   "metadata": {},
   "outputs": [
    {
     "name": "stdout",
     "output_type": "stream",
     "text": [
      "21 학번,22 학번,23 학번,24 학번,25 학번"
     ]
    }
   ],
   "source": [
    "#Lv\n",
    "student_number = list(map(int, input(\"학번을 입력해주세요: \").split()))\n",
    "\n",
    "student_number.sort()\n",
    "\n",
    "for num in student_number:\n",
    "    if num == student_number[-1]:\n",
    "        print(num,\"학번\",end=\"\")\n",
    "    else:\n",
    "        print(num,\"학번\",end=\",\")\n"
   ]
  }
 ],
 "metadata": {
  "kernelspec": {
   "display_name": "base",
   "language": "python",
   "name": "python3"
  },
  "language_info": {
   "codemirror_mode": {
    "name": "ipython",
    "version": 3
   },
   "file_extension": ".py",
   "mimetype": "text/x-python",
   "name": "python",
   "nbconvert_exporter": "python",
   "pygments_lexer": "ipython3",
   "version": "3.11.7"
  }
 },
 "nbformat": 4,
 "nbformat_minor": 5
}

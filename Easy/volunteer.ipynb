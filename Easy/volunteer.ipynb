{
 "cells": [
  {
   "cell_type": "code",
   "execution_count": null,
   "id": "8217f5f4",
   "metadata": {},
   "outputs": [
    {
     "name": "stdout",
     "output_type": "stream",
     "text": [
      "0\n"
     ]
    }
   ],
   "source": [
    "#Lv1\n",
    "def hyeonuk(n,s:list):\n",
    "    if n >= 70:\n",
    "        return 1\n",
    "    else:\n",
    "        return 0\n",
    "    pass\n",
    "\n",
    "print(hyeonuk(70, [100, 90, 80, 70, 60, 50, 40, 30, 20, 10]))\n"
   ]
  },
  {
   "cell_type": "code",
   "execution_count": null,
   "id": "6cbcb6db",
   "metadata": {},
   "outputs": [
    {
     "name": "stdout",
     "output_type": "stream",
     "text": [
      "1\n"
     ]
    }
   ],
   "source": [
    "#Lv2\n",
    "def hyeonuk(n,s:list):\n",
    "    if n >= sum(s)/len(s):\n",
    "        return 1\n",
    "    else:\n",
    "        return 0\n",
    "    pass\n",
    "\n",
    "print(hyeonuk(55, [100, 90, 80, 70, 60, 50, 40, 30, 20, 10]))\n"
   ]
  },
  {
   "cell_type": "code",
   "execution_count": 18,
   "id": "c8a39e2a",
   "metadata": {},
   "outputs": [
    {
     "name": "stdout",
     "output_type": "stream",
     "text": [
      "0.2727272727272727\n",
      "1\n"
     ]
    }
   ],
   "source": [
    "#Lv3\n",
    "def hyeonuk(n,s:list):\n",
    "    count = 0\n",
    "    for i in s:\n",
    "        if n < i:\n",
    "            count += 1\n",
    "    # 상위 %를 구하려면 동균이를 포함해야 하기 때문에 +1\n",
    "    print(count/(len(s)+1))\n",
    "    if count/(len(s)+1) >= 0.3:\n",
    "        return 0\n",
    "    else:\n",
    "        return 1\n",
    "    pass\n",
    "\n",
    "print(hyeonuk(71, [100, 90, 80, 70, 60, 50, 40, 30, 20, 10]))\n"
   ]
  }
 ],
 "metadata": {
  "kernelspec": {
   "display_name": "base",
   "language": "python",
   "name": "python3"
  },
  "language_info": {
   "codemirror_mode": {
    "name": "ipython",
    "version": 3
   },
   "file_extension": ".py",
   "mimetype": "text/x-python",
   "name": "python",
   "nbconvert_exporter": "python",
   "pygments_lexer": "ipython3",
   "version": "3.11.7"
  }
 },
 "nbformat": 4,
 "nbformat_minor": 5
}

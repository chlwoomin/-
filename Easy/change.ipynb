{
 "cells": [
  {
   "cell_type": "code",
   "execution_count": 10,
   "id": "0a300642",
   "metadata": {},
   "outputs": [
    {
     "name": "stdout",
     "output_type": "stream",
     "text": [
      "(2, 1, 0, 0)\n"
     ]
    }
   ],
   "source": [
    "def change(x):\n",
    "    # 거슬러줄 수 없다면\n",
    "    if x % 10 != 0:\n",
    "        return 0\n",
    "\n",
    "    coin = [0,0,0,0]\n",
    "    while x>= 10:\n",
    "        if x >= 500:\n",
    "            coin[0] = x // 500\n",
    "            x %= 500\n",
    "        elif x>= 100:\n",
    "            coin[1] = x // 100\n",
    "            x %= 100\n",
    "        elif x>= 50:\n",
    "            coin[2] = x // 50\n",
    "            x %= 50\n",
    "        else:\n",
    "            coin[3] = x // 10\n",
    "            x %= 10\n",
    "    return tuple(coin)\n",
    "print(change(1100))"
   ]
  }
 ],
 "metadata": {
  "kernelspec": {
   "display_name": "base",
   "language": "python",
   "name": "python3"
  },
  "language_info": {
   "codemirror_mode": {
    "name": "ipython",
    "version": 3
   },
   "file_extension": ".py",
   "mimetype": "text/x-python",
   "name": "python",
   "nbconvert_exporter": "python",
   "pygments_lexer": "ipython3",
   "version": "3.11.7"
  }
 },
 "nbformat": 4,
 "nbformat_minor": 5
}

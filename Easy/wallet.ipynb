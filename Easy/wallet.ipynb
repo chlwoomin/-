{
 "cells": [
  {
   "cell_type": "code",
   "execution_count": 5,
   "id": "ca6edb0c",
   "metadata": {},
   "outputs": [
    {
     "name": "stdout",
     "output_type": "stream",
     "text": [
      "4\n"
     ]
    }
   ],
   "source": [
    "def solution(wallet, bill): \n",
    "    answer = 0\n",
    "    while min(bill) > min(wallet) or max(bill) > max(wallet):\n",
    "        if bill[0] > bill[1]:\n",
    "            bill[0] /= 2\n",
    "        else:\n",
    "            bill[1] /=2\n",
    "        answer += 1\n",
    "    return answer\n",
    "\n",
    "print(solution([50, 50],[100, 241]))"
   ]
  }
 ],
 "metadata": {
  "kernelspec": {
   "display_name": "base",
   "language": "python",
   "name": "python3"
  },
  "language_info": {
   "codemirror_mode": {
    "name": "ipython",
    "version": 3
   },
   "file_extension": ".py",
   "mimetype": "text/x-python",
   "name": "python",
   "nbconvert_exporter": "python",
   "pygments_lexer": "ipython3",
   "version": "3.11.7"
  }
 },
 "nbformat": 4,
 "nbformat_minor": 5
}
